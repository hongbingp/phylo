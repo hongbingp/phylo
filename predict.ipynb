{
 "cells": [
  {
   "cell_type": "code",
   "execution_count": 1,
   "id": "1101e0b6",
   "metadata": {},
   "outputs": [
    {
     "name": "stdout",
     "output_type": "stream",
     "text": [
      "True\n",
      "1\n",
      "0\n",
      "NVIDIA GeForce RTX 3060 Laptop GPU\n"
     ]
    }
   ],
   "source": [
    "from math import factorial\n",
    "import numpy as np\n",
    "import torch\n",
    "import torch.nn as nn\n",
    "import torch.optim as optim\n",
    "from torch.utils.data import DataLoader, TensorDataset\n",
    "import matplotlib.pyplot as plt\n",
    "import torch.nn.functional as F\n",
    "print(torch.cuda.is_available())\n",
    "print(torch.cuda.device_count())\n",
    "print(torch.cuda.current_device())\n",
    "print(torch.cuda.get_device_name(0))"
   ]
  },
  {
   "cell_type": "code",
   "execution_count": 2,
   "id": "1be68580",
   "metadata": {},
   "outputs": [
    {
     "name": "stdout",
     "output_type": "stream",
     "text": [
      "(150000, 4, 500, 1)\n",
      "(15000, 4, 500, 1)\n",
      "(15000, 4, 500, 1)\n"
     ]
    }
   ],
   "source": [
    "train = np.load('C:/Users/PHB/phylo/data/nogap50k_500/TRAIN.npy')\n",
    "valid = np.load('C:/Users/PHB/phylo/data/nogap50k_500/VALID.npy')\n",
    "test = np.load('C:/Users/PHB/phylo/data/nogap50k_500/TEST.npy')\n",
    "print(train.shape)\n",
    "print(valid.shape)\n",
    "print(test.shape)\n",
    "\n",
    "#N unrooted trees given N taxa\n",
    "def n_unroot(Ntaxa):\n",
    "    N=factorial(2*Ntaxa-5)/(factorial(Ntaxa-3)*2**(Ntaxa-3))\n",
    "    return(int(N))\n",
    "\n",
    "def to_categorical(y, num_classes):\n",
    "    \"\"\" 1-hot encodes a tensor \"\"\"\n",
    "    return np.eye(num_classes, dtype='uint8')[y]\n",
    "#Generate labels\n",
    "Nlabels=n_unroot(4)\n",
    "train_label=to_categorical(np.repeat(range(0,Nlabels),len(train)/Nlabels), num_classes=3)\n",
    "valid_label=to_categorical(np.repeat(range(0,Nlabels),len(valid)/Nlabels), num_classes=3)\n",
    "test_label=to_categorical(np.repeat(range(0,Nlabels),len(test)/Nlabels), num_classes=3)"
   ]
  },
  {
   "cell_type": "code",
   "execution_count": 3,
   "id": "d432423b",
   "metadata": {},
   "outputs": [],
   "source": [
    "\n",
    "class Autoencoder(nn.Module):\n",
    "    def __init__(self):\n",
    "        super(Autoencoder, self).__init__()\n",
    "        self.encoder = nn.Sequential(\n",
    "            nn.Conv2d(4, 16, (3, 1), padding=(1, 0)),\n",
    "            nn.ReLU(),\n",
    "            nn.MaxPool2d((2, 1), (2, 1)),\n",
    "            nn.Conv2d(16, 8, (3, 1), padding=(1, 0)),\n",
    "            nn.ReLU(),\n",
    "            nn.MaxPool2d((2, 1), (2, 1)),\n",
    "        )\n",
    "        \n",
    "        self.decoder = nn.Sequential(\n",
    "            nn.ConvTranspose2d(8, 16, (2, 1), stride=(2, 1)),\n",
    "            nn.ReLU(),\n",
    "            nn.ConvTranspose2d(16, 4, (2, 1), stride=(2, 1)),\n",
    "            nn.Sigmoid(),\n",
    "        )\n",
    "\n",
    "    def forward(self, x, return_embeddings=False):\n",
    "        x = self.encoder(x)\n",
    "        if return_embeddings:\n",
    "            return x\n",
    "        x = self.decoder(x)\n",
    "        return x"
   ]
  },
  {
   "cell_type": "code",
   "execution_count": 4,
   "id": "5414057f",
   "metadata": {},
   "outputs": [
    {
     "name": "stdout",
     "output_type": "stream",
     "text": [
      "Using device: cuda\n",
      "\n",
      "NVIDIA GeForce RTX 3060 Laptop GPU\n",
      "Memory Usage:\n",
      "Allocated: 0.0 GB\n",
      "Cached:    0.0 GB\n"
     ]
    }
   ],
   "source": [
    "# Initialize model, loss function and optimizer\n",
    "device = torch.device('cuda' if torch.cuda.is_available() else 'cpu')\n",
    "print('Using device:', device)\n",
    "print()\n",
    "\n",
    "#Additional Info when using cuda\n",
    "if device.type == 'cuda':\n",
    "    print(torch.cuda.get_device_name(0))\n",
    "    print('Memory Usage:')\n",
    "    print('Allocated:', round(torch.cuda.memory_allocated(0)/1024**3,1), 'GB')\n",
    "    print('Cached:   ', round(torch.cuda.memory_reserved(0)/1024**3,1), 'GB')"
   ]
  },
  {
   "cell_type": "code",
   "execution_count": 5,
   "id": "e95b7436",
   "metadata": {},
   "outputs": [
    {
     "data": {
      "text/plain": [
       "Autoencoder(\n",
       "  (encoder): Sequential(\n",
       "    (0): Conv2d(4, 16, kernel_size=(3, 1), stride=(1, 1), padding=(1, 0))\n",
       "    (1): ReLU()\n",
       "    (2): MaxPool2d(kernel_size=(2, 1), stride=(2, 1), padding=0, dilation=1, ceil_mode=False)\n",
       "    (3): Conv2d(16, 8, kernel_size=(3, 1), stride=(1, 1), padding=(1, 0))\n",
       "    (4): ReLU()\n",
       "    (5): MaxPool2d(kernel_size=(2, 1), stride=(2, 1), padding=0, dilation=1, ceil_mode=False)\n",
       "  )\n",
       "  (decoder): Sequential(\n",
       "    (0): ConvTranspose2d(8, 16, kernel_size=(2, 1), stride=(2, 1))\n",
       "    (1): ReLU()\n",
       "    (2): ConvTranspose2d(16, 4, kernel_size=(2, 1), stride=(2, 1))\n",
       "    (3): Sigmoid()\n",
       "  )\n",
       ")"
      ]
     },
     "execution_count": 5,
     "metadata": {},
     "output_type": "execute_result"
    }
   ],
   "source": [
    "# Saving the model\n",
    "model_path = 'C:/Users/PHB/phylo/model/model0.pth'\n",
    "loaded_model = Autoencoder()\n",
    "loaded_model.load_state_dict(torch.load(model_path))\n",
    "#torch.save(model,model_path)\n",
    "\n",
    "# Loading the model (for future use)\n",
    "#loaded_model = torch.load(model_path)\n",
    "loaded_model.to(device)  # Move the model to the appropriate device\n",
    "loaded_model.eval()  # Set the model to evaluation mode\n"
   ]
  },
  {
   "cell_type": "code",
   "execution_count": 6,
   "id": "a0ea2032",
   "metadata": {},
   "outputs": [],
   "source": [
    "def get_embeddings(model, data_loader):\n",
    "    model.eval()\n",
    "    embeddings = []\n",
    "    \n",
    "    with torch.no_grad():\n",
    "        for data in data_loader:\n",
    "            inputs = data[0].to(device)\n",
    "            embedding = model(inputs, return_embeddings=True)\n",
    "            embeddings.append(embedding.cpu().detach().numpy())\n",
    "    \n",
    "    embeddings = np.concatenate(embeddings, axis=0)\n",
    "    return embeddings"
   ]
  },
  {
   "cell_type": "code",
   "execution_count": 7,
   "id": "8c6fd062",
   "metadata": {},
   "outputs": [],
   "source": [
    "# Convert numpy arrays to PyTorch tensors\n",
    "train_data = torch.tensor(train, dtype=torch.float32)\n",
    "valid_data = torch.tensor(valid, dtype=torch.float32)\n",
    "test_data = torch.tensor(test, dtype=torch.float32)\n",
    "\n",
    "# Create TensorDatasets and DataLoaders\n",
    "batch_size = 64\n",
    "train_dataset = TensorDataset(train_data)\n",
    "valid_dataset = TensorDataset(valid_data)\n",
    "test_dataset = TensorDataset(test_data)\n",
    "\n",
    "train_loader = DataLoader(train_dataset, batch_size=batch_size, shuffle=False)\n",
    "valid_loader = DataLoader(valid_dataset, batch_size=batch_size, shuffle=False)\n",
    "test_loader = DataLoader(test_dataset, batch_size=batch_size, shuffle=False)"
   ]
  },
  {
   "cell_type": "code",
   "execution_count": 8,
   "id": "529b34dd",
   "metadata": {},
   "outputs": [],
   "source": [
    "train_embeddings = get_embeddings(loaded_model, train_loader)\n",
    "test_embeddings = get_embeddings(loaded_model, test_loader)"
   ]
  },
  {
   "cell_type": "code",
   "execution_count": 25,
   "id": "debea159",
   "metadata": {},
   "outputs": [
    {
     "data": {
      "text/plain": [
       "(150000, 8, 125, 1)"
      ]
     },
     "execution_count": 25,
     "metadata": {},
     "output_type": "execute_result"
    }
   ],
   "source": [
    "train_embeddings.shape"
   ]
  },
  {
   "cell_type": "code",
   "execution_count": 27,
   "id": "518e934d",
   "metadata": {},
   "outputs": [
    {
     "data": {
      "text/plain": [
       "array([0, 0, 0, ..., 2, 2, 2])"
      ]
     },
     "execution_count": 27,
     "metadata": {},
     "output_type": "execute_result"
    }
   ],
   "source": []
  },
  {
   "cell_type": "code",
   "execution_count": 9,
   "id": "8aab8dcb",
   "metadata": {},
   "outputs": [],
   "source": [
    "X_train = train_embeddings.reshape(150000, -1)\n",
    "y_train = np.repeat(range(0,Nlabels),len(train)/Nlabels)\n",
    "X_test = test_embeddings.reshape(15000, -1)\n",
    "y_test = np.repeat(range(0,Nlabels),len(test)/Nlabels)"
   ]
  },
  {
   "cell_type": "code",
   "execution_count": 12,
   "id": "c218c325",
   "metadata": {},
   "outputs": [
    {
     "ename": "NameError",
     "evalue": "name 'pca' is not defined",
     "output_type": "error",
     "traceback": [
      "\u001b[1;31m---------------------------------------------------------------------------\u001b[0m",
      "\u001b[1;31mNameError\u001b[0m                                 Traceback (most recent call last)",
      "\u001b[1;32m~\\AppData\\Local\\Temp\\ipykernel_11428\\2962225535.py\u001b[0m in \u001b[0;36m<module>\u001b[1;34m\u001b[0m\n\u001b[0;32m      1\u001b[0m \u001b[0mX_test\u001b[0m \u001b[1;33m=\u001b[0m \u001b[0mtest_embeddings\u001b[0m\u001b[1;33m.\u001b[0m\u001b[0mreshape\u001b[0m\u001b[1;33m(\u001b[0m\u001b[1;36m15000\u001b[0m\u001b[1;33m,\u001b[0m \u001b[1;33m-\u001b[0m\u001b[1;36m1\u001b[0m\u001b[1;33m)\u001b[0m\u001b[1;33m\u001b[0m\u001b[1;33m\u001b[0m\u001b[0m\n\u001b[1;32m----> 2\u001b[1;33m \u001b[0mX_test_pca\u001b[0m \u001b[1;33m=\u001b[0m \u001b[0mpca\u001b[0m\u001b[1;33m.\u001b[0m\u001b[0mtransform\u001b[0m\u001b[1;33m(\u001b[0m\u001b[0mX_test\u001b[0m\u001b[1;33m)\u001b[0m\u001b[1;33m\u001b[0m\u001b[1;33m\u001b[0m\u001b[0m\n\u001b[0m",
      "\u001b[1;31mNameError\u001b[0m: name 'pca' is not defined"
     ]
    }
   ],
   "source": [
    "\n",
    "X_test_pca = pca.transform(X_test)"
   ]
  },
  {
   "cell_type": "code",
   "execution_count": 11,
   "id": "a10c0e5f",
   "metadata": {},
   "outputs": [],
   "source": [
    "from sklearn.decomposition import PCA"
   ]
  },
  {
   "cell_type": "code",
   "execution_count": 20,
   "id": "2d6a6861",
   "metadata": {},
   "outputs": [],
   "source": [
    "pca = PCA(60)\n",
    "X_train_pca = pca.fit_transform(X_train)"
   ]
  },
  {
   "cell_type": "code",
   "execution_count": 37,
   "id": "db530fc7",
   "metadata": {},
   "outputs": [],
   "source": []
  },
  {
   "cell_type": "code",
   "execution_count": 21,
   "id": "bff0f13e",
   "metadata": {},
   "outputs": [
    {
     "data": {
      "text/plain": [
       "(150000, 60)"
      ]
     },
     "execution_count": 21,
     "metadata": {},
     "output_type": "execute_result"
    }
   ],
   "source": [
    "X_train_pca.shape"
   ]
  },
  {
   "cell_type": "code",
   "execution_count": 44,
   "id": "0199c8a2",
   "metadata": {},
   "outputs": [],
   "source": [
    "# training a Naive Bayes classifier\n",
    "from sklearn.naive_bayes import GaussianNB\n",
    "gnb = GaussianNB().fit(X_train, y_train)\n",
    "gnb_predictions = gnb.predict(X_test)"
   ]
  },
  {
   "cell_type": "code",
   "execution_count": 45,
   "id": "1332c695",
   "metadata": {},
   "outputs": [
    {
     "data": {
      "text/plain": [
       "array([0, 1, 2, ..., 0, 0, 1])"
      ]
     },
     "execution_count": 45,
     "metadata": {},
     "output_type": "execute_result"
    }
   ],
   "source": [
    "gnb_predictions"
   ]
  },
  {
   "cell_type": "code",
   "execution_count": 46,
   "id": "1599a5b7",
   "metadata": {},
   "outputs": [],
   "source": [
    "\n",
    "from sklearn.metrics import confusion_matrix\n",
    "# model accuracy for X_test  \n",
    "accuracy = gnb.score(X_test, y_test)\n",
    "  \n",
    "# creating a confusion matrix\n",
    "cm = confusion_matrix(y_test, gnb_predictions)"
   ]
  },
  {
   "cell_type": "code",
   "execution_count": 47,
   "id": "6f7115c7",
   "metadata": {},
   "outputs": [
    {
     "name": "stdout",
     "output_type": "stream",
     "text": [
      "0.3364666666666667\n"
     ]
    }
   ],
   "source": [
    "print(accuracy)"
   ]
  },
  {
   "cell_type": "code",
   "execution_count": 15,
   "id": "fa948886",
   "metadata": {},
   "outputs": [],
   "source": [
    "import scipy\n",
    "from sklearn.model_selection import GridSearchCV, train_test_split\n",
    "from sklearn.decomposition import PCA\n",
    "from sklearn.neighbors import KNeighborsClassifier, KNeighborsRegressor\n",
    "from sklearn.svm import SVC, SVR\n",
    "from sklearn.ensemble import RandomForestClassifier, RandomForestRegressor\n",
    "from sklearn.naive_bayes import GaussianNB\n",
    "from sklearn.linear_model import LogisticRegression, SGDRegressor\n",
    "from sklearn import metrics"
   ]
  },
  {
   "cell_type": "code",
   "execution_count": null,
   "id": "a6dec2c6",
   "metadata": {},
   "outputs": [],
   "source": [
    "svm_model_linear = SVC(kernel = 'linear', C = 1).fit(X_train, y_train)\n",
    "svm_predictions = svm_model_linear.predict(X_test)\n",
    "  \n",
    "# model accuracy for X_test  \n",
    "accuracy = svm_model_linear.score(X_test, y_test)\n",
    "print(accuracy)"
   ]
  },
  {
   "cell_type": "code",
   "execution_count": null,
   "id": "9785bd81",
   "metadata": {},
   "outputs": [
    {
     "name": "stdout",
     "output_type": "stream",
     "text": [
      "Fitting 5 folds for each of 12 candidates, totalling 60 fits\n"
     ]
    },
    {
     "name": "stderr",
     "output_type": "stream",
     "text": [
      "[Parallel(n_jobs=-1)]: Using backend LokyBackend with 20 concurrent workers.\n"
     ]
    }
   ],
   "source": [
    "svm_grid = {\n",
    "    'C' : [0.1, 1.0, 10.0],\n",
    "    'kernel' :['linear', 'poly', 'rbf', 'sigmoid'],\n",
    "    'degree' : [3],\n",
    "    'gamma': ['scale'],\n",
    "}\n",
    "\n",
    "\n",
    "result_list = []\n",
    "grid_list = []\n",
    "\n",
    "grid = GridSearchCV(\n",
    "        estimator = SVC(),\n",
    "        param_grid = svm_grid,\n",
    "        scoring = 'accuracy',\n",
    "        verbose = 1,\n",
    "        n_jobs = -1 # use all available cores\n",
    "    )\n",
    "grid.fit(X_train_pca, y_train)\n",
    "result_list.append(pd.DataFrame.from_dict(grid.cv_results_))\n",
    "grid_list.append(grid)\n",
    "\n"
   ]
  },
  {
   "cell_type": "code",
   "execution_count": 13,
   "id": "0893c4bb",
   "metadata": {},
   "outputs": [
    {
     "ename": "NameError",
     "evalue": "name 'grid_list' is not defined",
     "output_type": "error",
     "traceback": [
      "\u001b[1;31m---------------------------------------------------------------------------\u001b[0m",
      "\u001b[1;31mNameError\u001b[0m                                 Traceback (most recent call last)",
      "\u001b[1;32m~\\AppData\\Local\\Temp\\ipykernel_11428\\3232730934.py\u001b[0m in \u001b[0;36m<module>\u001b[1;34m\u001b[0m\n\u001b[1;32m----> 1\u001b[1;33m \u001b[1;32mfor\u001b[0m \u001b[0mgrid\u001b[0m \u001b[1;32min\u001b[0m \u001b[0mgrid_list\u001b[0m\u001b[1;33m:\u001b[0m\u001b[1;33m\u001b[0m\u001b[1;33m\u001b[0m\u001b[0m\n\u001b[0m\u001b[0;32m      2\u001b[0m     \u001b[0mprint\u001b[0m\u001b[1;33m(\u001b[0m\u001b[0mgrid\u001b[0m\u001b[1;33m.\u001b[0m\u001b[0mbest_estimator_\u001b[0m\u001b[1;33m)\u001b[0m\u001b[1;33m\u001b[0m\u001b[1;33m\u001b[0m\u001b[0m\n\u001b[0;32m      3\u001b[0m     \u001b[0mprint\u001b[0m\u001b[1;33m(\u001b[0m\u001b[1;33m)\u001b[0m\u001b[1;33m\u001b[0m\u001b[1;33m\u001b[0m\u001b[0m\n\u001b[0;32m      4\u001b[0m     \u001b[0mpreds\u001b[0m \u001b[1;33m=\u001b[0m \u001b[0mgrid\u001b[0m\u001b[1;33m.\u001b[0m\u001b[0mpredict\u001b[0m\u001b[1;33m(\u001b[0m\u001b[0mX_test_pca\u001b[0m\u001b[1;33m)\u001b[0m\u001b[1;33m\u001b[0m\u001b[1;33m\u001b[0m\u001b[0m\n\u001b[0;32m      5\u001b[0m     \u001b[1;31m#print(f'{scipy.stats.spearmanr(ys_test, preds)}')\u001b[0m\u001b[1;33m\u001b[0m\u001b[1;33m\u001b[0m\u001b[1;33m\u001b[0m\u001b[0m\n",
      "\u001b[1;31mNameError\u001b[0m: name 'grid_list' is not defined"
     ]
    }
   ],
   "source": [
    "for grid in grid_list:\n",
    "    print(grid.best_estimator_)\n",
    "    print()\n",
    "    preds = grid.predict(X_test_pca)\n",
    "    #print(f'{scipy.stats.spearmanr(ys_test, preds)}')\n",
    "    fpr, tpr, thresholds = metrics.roc_curve(ys_test, preds, pos_label=1)\n",
    "    print(f'{metrics.auc(fpr, tpr)}')\n",
    "    print('\\n', '-' * 80, '\\n')"
   ]
  },
  {
   "cell_type": "code",
   "execution_count": 1,
   "id": "5342fc34",
   "metadata": {},
   "outputs": [],
   "source": [
    "#!/usr/bin/env python\n",
    "# coding: utf-8\n",
    "import random\n",
    "from collections import Counter\n",
    "from tqdm import tqdm \n",
    "import argparse\n",
    "\n",
    "\n",
    "\n",
    "\n",
    "\n",
    "train_size = 0.5\n",
    "Xs_train, Xs_test, ys_train, ys_test = train_test_split(Xs, ys, train_size=train_size, random_state=42)\n",
    "\n",
    "Xs_train.shape, Xs_test.shape, len(ys_train), len(ys_test)\n",
    "\n",
    "pca = PCA(60)\n",
    "Xs_train_pca = pca.fit_transform(Xs_train)\n",
    "\n",
    "svm_grid = {\n",
    "    'C' : [0.1, 1.0, 10.0],\n",
    "    'kernel' :['linear', 'poly', 'rbf', 'sigmoid'],\n",
    "    'degree' : [3],\n",
    "    'gamma': ['scale'],\n",
    "}\n",
    "\n",
    "\n",
    "result_list = []\n",
    "grid_list = []\n",
    "\n",
    "grid = GridSearchCV(\n",
    "        estimator = SVR(),\n",
    "        param_grid = svm_grid,\n",
    "        scoring = 'roc_auc',\n",
    "        verbose = 1,\n",
    "        n_jobs = -1 # use all available cores\n",
    "    )\n",
    "grid.fit(Xs_train_pca, ys_train)\n",
    "result_list.append(pd.DataFrame.from_dict(grid.cv_results_))\n",
    "grid_list.append(grid)\n",
    "\n",
    "Xs_test_pca = pca.transform(Xs_test)\n",
    "for grid in grid_list:\n",
    "    print(grid.best_estimator_)\n",
    "    print()\n",
    "    preds = grid.predict(Xs_test_pca)\n",
    "    #print(f'{scipy.stats.spearmanr(ys_test, preds)}')\n",
    "    fpr, tpr, thresholds = metrics.roc_curve(ys_test, preds, pos_label=1)\n",
    "    print(f'{metrics.auc(fpr, tpr)}')\n",
    "    print('\\n', '-' * 80, '\\n')"
   ]
  },
  {
   "cell_type": "code",
   "execution_count": 4,
   "id": "50e33c19",
   "metadata": {},
   "outputs": [
    {
     "data": {
      "text/plain": [
       "True"
      ]
     },
     "execution_count": 4,
     "metadata": {},
     "output_type": "execute_result"
    }
   ],
   "source": []
  },
  {
   "cell_type": "code",
   "execution_count": 2,
   "id": "47f019b6",
   "metadata": {},
   "outputs": [
    {
     "name": "stdout",
     "output_type": "stream",
     "text": [
      "Sun Apr 16 14:21:04 2023       \n",
      "+-----------------------------------------------------------------------------+\n",
      "| NVIDIA-SMI 528.49       Driver Version: 528.49       CUDA Version: 12.0     |\n",
      "|-------------------------------+----------------------+----------------------+\n",
      "| GPU  Name            TCC/WDDM | Bus-Id        Disp.A | Volatile Uncorr. ECC |\n",
      "| Fan  Temp  Perf  Pwr:Usage/Cap|         Memory-Usage | GPU-Util  Compute M. |\n",
      "|                               |                      |               MIG M. |\n",
      "|===============================+======================+======================|\n",
      "|   0  NVIDIA GeForce ... WDDM  | 00000000:01:00.0 Off |                  N/A |\n",
      "| N/A   53C    P3    18W /  55W |      0MiB /  6144MiB |      0%      Default |\n",
      "|                               |                      |                  N/A |\n",
      "+-------------------------------+----------------------+----------------------+\n",
      "                                                                               \n",
      "+-----------------------------------------------------------------------------+\n",
      "| Processes:                                                                  |\n",
      "|  GPU   GI   CI        PID   Type   Process name                  GPU Memory |\n",
      "|        ID   ID                                                   Usage      |\n",
      "|=============================================================================|\n",
      "+-----------------------------------------------------------------------------+\n"
     ]
    }
   ],
   "source": [
    "!nvidia-smi"
   ]
  }
 ],
 "metadata": {
  "kernelspec": {
   "display_name": "py37",
   "language": "python",
   "name": "py37"
  },
  "language_info": {
   "codemirror_mode": {
    "name": "ipython",
    "version": 3
   },
   "file_extension": ".py",
   "mimetype": "text/x-python",
   "name": "python",
   "nbconvert_exporter": "python",
   "pygments_lexer": "ipython3",
   "version": "3.7.13"
  }
 },
 "nbformat": 4,
 "nbformat_minor": 5
}
