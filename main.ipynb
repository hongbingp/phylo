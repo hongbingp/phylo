{
 "cells": [
  {
   "cell_type": "code",
   "execution_count": 2,
   "id": "1dd6b1d9",
   "metadata": {},
   "outputs": [
    {
     "name": "stdout",
     "output_type": "stream",
     "text": [
      "True\n",
      "1\n",
      "0\n",
      "NVIDIA GeForce RTX 3060 Laptop GPU\n"
     ]
    }
   ],
   "source": [
    "from math import factorial\n",
    "import numpy as np\n",
    "import torch\n",
    "import torch.nn as nn\n",
    "import torch.optim as optim\n",
    "from torch.utils.data import DataLoader, TensorDataset\n",
    "import matplotlib.pyplot as plt\n",
    "import torch.nn.functional as F\n",
    "print(torch.cuda.is_available())\n",
    "print(torch.cuda.device_count())\n",
    "print(torch.cuda.current_device())\n",
    "print(torch.cuda.get_device_name(0))"
   ]
  },
  {
   "cell_type": "code",
   "execution_count": 5,
   "id": "4f896126",
   "metadata": {},
   "outputs": [
    {
     "name": "stdout",
     "output_type": "stream",
     "text": [
      "(150000, 4, 500, 1)\n",
      "(15000, 4, 500, 1)\n",
      "(15000, 4, 500, 1)\n"
     ]
    }
   ],
   "source": [
    "train = np.load('C:/Users/PHB/phylo/data/nogap50k_500/TRAIN.npy')\n",
    "valid = np.load('C:/Users/PHB/phylo/data/nogap50k_500/VALID.npy')\n",
    "test = np.load('C:/Users/PHB/phylo/data/nogap50k_500/TEST.npy')\n",
    "print(train.shape)\n",
    "print(valid.shape)\n",
    "print(test.shape)"
   ]
  },
  {
   "cell_type": "code",
   "execution_count": 7,
   "id": "ef3f78a7",
   "metadata": {},
   "outputs": [],
   "source": [
    "#N unrooted trees given N taxa\n",
    "def n_unroot(Ntaxa):\n",
    "    N=factorial(2*Ntaxa-5)/(factorial(Ntaxa-3)*2**(Ntaxa-3))\n",
    "    return(int(N))\n",
    "\n",
    "def to_categorical(y, num_classes):\n",
    "    \"\"\" 1-hot encodes a tensor \"\"\"\n",
    "    return np.eye(num_classes, dtype='uint8')[y]\n",
    "#Generate labels\n",
    "Nlabels=n_unroot(4)\n",
    "train_label=to_categorical(np.repeat(range(0,Nlabels),len(train)/Nlabels), num_classes=3)\n",
    "valid_label=to_categorical(np.repeat(range(0,Nlabels),len(valid)/Nlabels), num_classes=3)\n",
    "test_label=to_categorical(np.repeat(range(0,Nlabels),len(test)/Nlabels), num_classes=3)\n"
   ]
  },
  {
   "cell_type": "code",
   "execution_count": 54,
   "id": "23c02e94",
   "metadata": {},
   "outputs": [],
   "source": [
    "encoder = nn.Sequential(\n",
    "    nn.Conv2d(4, 32, kernel_size=(3,1), stride=1, padding=(1,0)),\n",
    "    nn.ReLU(),\n",
    "    nn.MaxPool2d(kernel_size=(2,1), stride=1),\n",
    "    nn.Conv2d(32, 64, kernel_size=(3,1), stride=1, padding=(1,0)),\n",
    "    nn.ReLU(),\n",
    "    nn.MaxPool2d(kernel_size=(2,1), stride=(2,1)),\n",
    "    nn.Conv2d(64, 128, kernel_size=(3,1), stride=1, padding=(1,0)),\n",
    "    nn.ReLU(),\n",
    "    nn.MaxPool2d(kernel_size=(2,1), stride=(2,1)),\n",
    "    nn.Conv2d(128, 256, kernel_size=(3,1), stride=1, padding=(1,0)),\n",
    "    nn.ReLU(),\n",
    "    nn.MaxPool2d(kernel_size=(2,1), stride=(2,1)),\n",
    "    nn.Conv2d(256, 512, kernel_size=(3,1), stride=1, padding=(1,0)),\n",
    "    nn.ReLU(),\n",
    "    nn.MaxPool2d(kernel_size=(2,1), stride=1)\n",
    ")"
   ]
  },
  {
   "cell_type": "code",
   "execution_count": 72,
   "id": "a92ada19",
   "metadata": {},
   "outputs": [],
   "source": [
    "encoder2 = nn.Sequential(\n",
    "    nn.Conv2d(4, 16, (3, 1), padding=(1, 0)),\n",
    "    nn.ReLU(),\n",
    "    nn.MaxPool2d((2, 1), (2, 1)),\n",
    "    nn.Conv2d(16, 8, (3, 1), padding=(1, 0)),\n",
    "    nn.ReLU(),\n",
    "    nn.MaxPool2d((2, 1), (2, 1)),\n",
    ")\n",
    "decoder2 = nn.Sequential(\n",
    "            nn.ConvTranspose2d(8, 16, (2, 1), stride=(2, 1)),\n",
    "            nn.ReLU(),\n",
    "            nn.ConvTranspose2d(16, 4, (2, 1), stride=(2, 1)),\n",
    "            nn.Sigmoid(),\n",
    "        )"
   ]
  },
  {
   "cell_type": "code",
   "execution_count": 16,
   "id": "2a523d33",
   "metadata": {},
   "outputs": [],
   "source": [
    "encoder = nn.Sequential(\n",
    "            nn.Conv2d(4, 32,3, padding=1),\n",
    "            nn.ReLU(),\n",
    "            nn.BatchNorm2d(32),\n",
    "            nn.MaxPool2d((2, 1), (2, 1)),\n",
    "            nn.Conv2d(32, 64, 3, padding=1 ),\n",
    "            nn.ReLU(),\n",
    "            nn.BatchNorm2d(64),\n",
    "            nn.MaxPool2d((2, 1), (2, 1)),\n",
    "            nn.Conv2d(64, 128, 3, padding=1),\n",
    "            nn.ReLU(),\n",
    "            nn.BatchNorm2d(128),\n",
    "            nn.MaxPool2d((2, 1), (2, 1)),\n",
    "        )\n",
    "        \n",
    "decoder = nn.Sequential(\n",
    "            nn.ConvTranspose2d(128, 64, 3, stride=(2, 1)),\n",
    "            nn.ReLU(),\n",
    "            nn.BatchNorm2d(64),\n",
    "            nn.ConvTranspose2d(64, 32, 3, stride=(2, 1)),\n",
    "            nn.ReLU(),\n",
    "            nn.BatchNorm2d(32),\n",
    "            nn.ConvTranspose2d(32, 16, 3, stride=(2, 1)),\n",
    "            nn.ReLU(),\n",
    "            nn.BatchNorm2d(16),\n",
    "            nn.ConvTranspose2d(16, 4, 2, padding=1),\n",
    "            nn.Sigmoid(),\n",
    "        )"
   ]
  },
  {
   "cell_type": "code",
   "execution_count": 17,
   "id": "f5f1ea3c",
   "metadata": {},
   "outputs": [
    {
     "name": "stdout",
     "output_type": "stream",
     "text": [
      "torch.Size([1, 128, 62, 1])\n",
      "torch.Size([1, 4, 502, 6])\n"
     ]
    }
   ],
   "source": [
    "\n",
    "\n",
    "input = torch.randn(1, 4, 500, 1)\n",
    "\n",
    "embed = encoder(input)\n",
    "\n",
    "print(embed.shape)\n",
    "\n",
    "output = decoder(embed)\n",
    "\n",
    "print(output.shape)"
   ]
  },
  {
   "cell_type": "code",
   "execution_count": 70,
   "id": "7e9fe7d2",
   "metadata": {},
   "outputs": [],
   "source": [
    "decoder = nn.Sequential(\n",
    "            nn.ConvTranspose2d(512, 256, kernel_size=(3,1), stride=1, padding=(1,0)),\n",
    "            nn.ReLU(),\n",
    "#             nn.Conv2d(256, 256, kernel_size=(3,1), stride=1, padding=(1,0)),\n",
    "            nn.ReLU(),\n",
    "            nn.ConvTranspose2d(256, 128, kernel_size=(3,1), stride=1, padding=(1,0)),\n",
    "            nn.ReLU(),\n",
    "#             nn.Conv2d(128, 128, kernel_size=(3,1), stride=1, padding=(1,0)),\n",
    "            nn.ReLU(),\n",
    "            nn.ConvTranspose2d(128, 64, kernel_size=(3,1), stride=1, padding=(1,0)),\n",
    "            nn.ReLU(),\n",
    "#             nn.Conv2d(64, 64, kernel_size=(3,1), stride=1, padding=(1,0)),\n",
    "            nn.ReLU(),\n",
    "            nn.ConvTranspose2d(64, 32, kernel_size=(3,1), stride=1, padding=(1,0)),\n",
    "            nn.ReLU(),\n",
    "#             nn.Conv2d(32, 4, kernel_size=(3,1), stride=1, padding=(1,0)),\n",
    "            nn.Sigmoid(),\n",
    "        )"
   ]
  },
  {
   "cell_type": "code",
   "execution_count": 71,
   "id": "69fffe4f",
   "metadata": {},
   "outputs": [
    {
     "name": "stdout",
     "output_type": "stream",
     "text": [
      "torch.Size([1, 32, 61, 1])\n"
     ]
    }
   ],
   "source": []
  },
  {
   "cell_type": "code",
   "execution_count": 121,
   "id": "579cbabb",
   "metadata": {},
   "outputs": [
    {
     "name": "stdout",
     "output_type": "stream",
     "text": [
      "Using device: cuda\n",
      "\n",
      "NVIDIA GeForce RTX 3060 Laptop GPU\n",
      "Memory Usage:\n",
      "Allocated: 0.1 GB\n",
      "Cached:    1.9 GB\n",
      "Epoch [1/100], Train Loss: 1.338747, Validation Loss: 1.281719\n",
      "Epoch [2/100], Train Loss: 1.277134, Validation Loss: 1.269566\n",
      "Epoch [3/100], Train Loss: 1.266888, Validation Loss: 1.266835\n",
      "Epoch [4/100], Train Loss: 1.265680, Validation Loss: 1.266288\n",
      "Epoch [5/100], Train Loss: 1.265188, Validation Loss: 1.265870\n",
      "Epoch [6/100], Train Loss: 1.264943, Validation Loss: 1.265714\n",
      "Epoch [7/100], Train Loss: 1.264816, Validation Loss: 1.265586\n",
      "Epoch [8/100], Train Loss: 1.264724, Validation Loss: 1.265510\n",
      "Epoch [9/100], Train Loss: 1.264650, Validation Loss: 1.265475\n",
      "Epoch [10/100], Train Loss: 1.264578, Validation Loss: 1.265448\n",
      "Epoch [11/100], Train Loss: 1.264547, Validation Loss: 1.265364\n",
      "Epoch [12/100], Train Loss: 1.264502, Validation Loss: 1.265334\n",
      "Epoch [13/100], Train Loss: 1.264480, Validation Loss: 1.265308\n",
      "Epoch [14/100], Train Loss: 1.264461, Validation Loss: 1.265289\n",
      "Epoch [15/100], Train Loss: 1.264442, Validation Loss: 1.265292\n",
      "Epoch [16/100], Train Loss: 1.264425, Validation Loss: 1.265265\n",
      "Epoch [17/100], Train Loss: 1.264408, Validation Loss: 1.265220\n"
     ]
    },
    {
     "ename": "KeyboardInterrupt",
     "evalue": "",
     "output_type": "error",
     "traceback": [
      "\u001b[1;31m---------------------------------------------------------------------------\u001b[0m",
      "\u001b[1;31mKeyboardInterrupt\u001b[0m                         Traceback (most recent call last)",
      "\u001b[1;32m~\\AppData\\Local\\Temp\\ipykernel_7820\\3116417096.py\u001b[0m in \u001b[0;36m<module>\u001b[1;34m\u001b[0m\n\u001b[0;32m    116\u001b[0m \u001b[1;33m\u001b[0m\u001b[0m\n\u001b[0;32m    117\u001b[0m         \u001b[0moptimizer\u001b[0m\u001b[1;33m.\u001b[0m\u001b[0mzero_grad\u001b[0m\u001b[1;33m(\u001b[0m\u001b[1;33m)\u001b[0m\u001b[1;33m\u001b[0m\u001b[1;33m\u001b[0m\u001b[0m\n\u001b[1;32m--> 118\u001b[1;33m         \u001b[0mloss\u001b[0m\u001b[1;33m.\u001b[0m\u001b[0mbackward\u001b[0m\u001b[1;33m(\u001b[0m\u001b[1;33m)\u001b[0m\u001b[1;33m\u001b[0m\u001b[1;33m\u001b[0m\u001b[0m\n\u001b[0m\u001b[0;32m    119\u001b[0m         \u001b[0moptimizer\u001b[0m\u001b[1;33m.\u001b[0m\u001b[0mstep\u001b[0m\u001b[1;33m(\u001b[0m\u001b[1;33m)\u001b[0m\u001b[1;33m\u001b[0m\u001b[1;33m\u001b[0m\u001b[0m\n\u001b[0;32m    120\u001b[0m \u001b[1;33m\u001b[0m\u001b[0m\n",
      "\u001b[1;32mD:\\anaconda\\envs\\py37\\lib\\site-packages\\torch\\_tensor.py\u001b[0m in \u001b[0;36mbackward\u001b[1;34m(self, gradient, retain_graph, create_graph, inputs)\u001b[0m\n\u001b[0;32m    486\u001b[0m             )\n\u001b[0;32m    487\u001b[0m         torch.autograd.backward(\n\u001b[1;32m--> 488\u001b[1;33m             \u001b[0mself\u001b[0m\u001b[1;33m,\u001b[0m \u001b[0mgradient\u001b[0m\u001b[1;33m,\u001b[0m \u001b[0mretain_graph\u001b[0m\u001b[1;33m,\u001b[0m \u001b[0mcreate_graph\u001b[0m\u001b[1;33m,\u001b[0m \u001b[0minputs\u001b[0m\u001b[1;33m=\u001b[0m\u001b[0minputs\u001b[0m\u001b[1;33m\u001b[0m\u001b[1;33m\u001b[0m\u001b[0m\n\u001b[0m\u001b[0;32m    489\u001b[0m         )\n\u001b[0;32m    490\u001b[0m \u001b[1;33m\u001b[0m\u001b[0m\n",
      "\u001b[1;32mD:\\anaconda\\envs\\py37\\lib\\site-packages\\torch\\autograd\\__init__.py\u001b[0m in \u001b[0;36mbackward\u001b[1;34m(tensors, grad_tensors, retain_graph, create_graph, grad_variables, inputs)\u001b[0m\n\u001b[0;32m    197\u001b[0m     Variable._execution_engine.run_backward(  # Calls into the C++ engine to run the backward pass\n\u001b[0;32m    198\u001b[0m         \u001b[0mtensors\u001b[0m\u001b[1;33m,\u001b[0m \u001b[0mgrad_tensors_\u001b[0m\u001b[1;33m,\u001b[0m \u001b[0mretain_graph\u001b[0m\u001b[1;33m,\u001b[0m \u001b[0mcreate_graph\u001b[0m\u001b[1;33m,\u001b[0m \u001b[0minputs\u001b[0m\u001b[1;33m,\u001b[0m\u001b[1;33m\u001b[0m\u001b[1;33m\u001b[0m\u001b[0m\n\u001b[1;32m--> 199\u001b[1;33m         allow_unreachable=True, accumulate_grad=True)  # Calls into the C++ engine to run the backward pass\n\u001b[0m\u001b[0;32m    200\u001b[0m \u001b[1;33m\u001b[0m\u001b[0m\n\u001b[0;32m    201\u001b[0m def grad(\n",
      "\u001b[1;31mKeyboardInterrupt\u001b[0m: "
     ]
    }
   ],
   "source": [
    "# Convert numpy arrays to PyTorch tensors\n",
    "train_data = torch.tensor(train, dtype=torch.float32)\n",
    "valid_data = torch.tensor(valid, dtype=torch.float32)\n",
    "test_data = torch.tensor(test, dtype=torch.float32)\n",
    "\n",
    "# Create TensorDatasets and DataLoaders\n",
    "batch_size = 64\n",
    "train_dataset = TensorDataset(train_data)\n",
    "valid_dataset = TensorDataset(valid_data)\n",
    "test_dataset = TensorDataset(test_data)\n",
    "\n",
    "train_loader = DataLoader(train_dataset, batch_size=batch_size, shuffle=True)\n",
    "valid_loader = DataLoader(valid_dataset, batch_size=batch_size, shuffle=False)\n",
    "test_loader = DataLoader(test_dataset, batch_size=batch_size, shuffle=False)\n",
    "\n",
    "# class Autoencoder(nn.Module):\n",
    "#     def __init__(self):\n",
    "#         super(Autoencoder, self).__init__()\n",
    "#         self.encoder = nn.Sequential(\n",
    "#             nn.Conv2d(4, 16, (3, 1), padding=(1, 0)),\n",
    "#             nn.ReLU(),\n",
    "#             nn.MaxPool2d((2, 1), (2, 1)),\n",
    "#             nn.Conv2d(16, 8, (3, 1), padding=(1, 0)),\n",
    "#             nn.ReLU(),\n",
    "#             nn.MaxPool2d((2, 1), (2, 1)),\n",
    "#         )\n",
    "        \n",
    "#         self.decoder = nn.Sequential(\n",
    "#             nn.ConvTranspose2d(8, 16, (2, 1), stride=(2, 1)),\n",
    "#             nn.ReLU(),\n",
    "#             nn.ConvTranspose2d(16, 4, (2, 1), stride=(2, 1)),\n",
    "#             nn.Sigmoid(),\n",
    "#         )\n",
    "\n",
    "#     def forward(self, x, return_embeddings=False):\n",
    "#         x = self.encoder(x)\n",
    "#         if return_embeddings:\n",
    "#             return x\n",
    "#         x = self.decoder(x)\n",
    "#         return x\n",
    "\n",
    "\n",
    "class Autoencoder(nn.Module):\n",
    "    def __init__(self):\n",
    "        super(Autoencoder, self).__init__()\n",
    "        \n",
    "        self.encoder = nn.Sequential(\n",
    "            nn.Conv2d(4, 32, (3, 1), padding=(1, 0)),\n",
    "            nn.ReLU(),\n",
    "            nn.BatchNorm2d(32),\n",
    "            nn.MaxPool2d((2, 1), (2, 1)),\n",
    "            nn.Conv2d(32, 64, (3, 1), padding=(1, 0)),\n",
    "            nn.ReLU(),\n",
    "            nn.BatchNorm2d(64),\n",
    "            nn.MaxPool2d((2, 1), (2, 1)),\n",
    "            nn.Conv2d(64, 128, (3, 1), padding=(1, 0)),\n",
    "            nn.ReLU(),\n",
    "            nn.BatchNorm2d(128),\n",
    "            nn.MaxPool2d((2, 1), (2, 1)),\n",
    "        )\n",
    "        \n",
    "        self.decoder = nn.Sequential(\n",
    "            nn.ConvTranspose2d(128, 64, (3, 1), stride=(2, 1)),\n",
    "            nn.ReLU(),\n",
    "            nn.BatchNorm2d(64),\n",
    "            nn.ConvTranspose2d(64, 32, (3, 1), stride=(2, 1)),\n",
    "            nn.ReLU(),\n",
    "            nn.BatchNorm2d(32),\n",
    "            nn.ConvTranspose2d(32, 16, (3, 1), stride=(2, 1)),\n",
    "            nn.ReLU(),\n",
    "            nn.BatchNorm2d(16),\n",
    "            nn.ConvTranspose2d(16, 4, (2, 1), padding=(2, 0)),\n",
    "            nn.Sigmoid(),\n",
    "        )\n",
    "    def forward(self, x, return_embeddings=False):\n",
    "        x = self.encoder(x)\n",
    "        if return_embeddings:\n",
    "            return x\n",
    "        x = self.decoder(x)\n",
    "        return x\n",
    "\n",
    "\n",
    "\n",
    "# Hyperparameters\n",
    "num_epochs = 100\n",
    "learning_rate = 0.001\n",
    "\n",
    "# Initialize model, loss function and optimizer\n",
    "device = torch.device('cuda' if torch.cuda.is_available() else 'cpu')\n",
    "print('Using device:', device)\n",
    "print()\n",
    "\n",
    "#Additional Info when using cuda\n",
    "if device.type == 'cuda':\n",
    "    print(torch.cuda.get_device_name(0))\n",
    "    print('Memory Usage:')\n",
    "    print('Allocated:', round(torch.cuda.memory_allocated(0)/1024**3,1), 'GB')\n",
    "    print('Cached:   ', round(torch.cuda.memory_reserved(0)/1024**3,1), 'GB')\n",
    "\n",
    "model = Autoencoder().to(device)\n",
    "criterion = nn.MSELoss()\n",
    "optimizer = optim.Adam(model.parameters(), lr=learning_rate)\n",
    "\n",
    "# Initialize lists to store losses\n",
    "train_losses = []\n",
    "valid_losses = []\n",
    "\n",
    "# Training loop\n",
    "for epoch in range(num_epochs):\n",
    "    model.train()\n",
    "    train_loss = 0\n",
    "    for data in train_loader:\n",
    "        inputs = data[0].to(device)\n",
    "        outputs = model(inputs)\n",
    "        loss = criterion(outputs, inputs)\n",
    "        \n",
    "        optimizer.zero_grad()\n",
    "        loss.backward()\n",
    "        optimizer.step()\n",
    "\n",
    "        train_loss += loss.item()\n",
    "\n",
    "    train_loss /= len(train_loader)\n",
    "    train_losses.append(train_loss)\n",
    "    \n",
    "    model.eval()\n",
    "    validation_loss = 0\n",
    "    with torch.no_grad():\n",
    "        for data in valid_loader:\n",
    "            inputs = data[0].to(device)\n",
    "            outputs = model(inputs)\n",
    "            loss = criterion(outputs, inputs)\n",
    "            validation_loss += loss.item()\n",
    "\n",
    "    validation_loss /= len(valid_loader)\n",
    "    valid_losses.append(validation_loss)\n",
    "\n",
    "    print(f'Epoch [{epoch+1}/{num_epochs}], Train Loss: {train_loss:.6f}, Validation Loss: {validation_loss:.6f}')\n",
    "\n",
    "\n"
   ]
  },
  {
   "cell_type": "code",
   "execution_count": 8,
   "id": "484295e0",
   "metadata": {},
   "outputs": [
    {
     "data": {
      "image/png": "[encoded data removed]",
      "text/plain": [
       "<Figure size 640x480 with 1 Axes>"
      ]
     },
     "metadata": {},
     "output_type": "display_data"
    }
   ],
   "source": [
    "\n",
    "\n",
    "# Plot train and validation loss\n",
    "epochs = range(1, num_epochs + 1)\n",
    "plt.plot(epochs, train_losses, label='Train Loss')\n",
    "plt.plot(epochs, valid_losses, label='Validation Loss')\n",
    "plt.xlabel('Epochs')\n",
    "plt.ylabel('Loss')\n",
    "plt.legend()\n",
    "plt.show()"
   ]
  },
  {
   "cell_type": "code",
   "execution_count": 12,
   "id": "97841632",
   "metadata": {},
   "outputs": [
    {
     "data": {
      "text/plain": [
       "Autoencoder(\n",
       "  (encoder): Sequential(\n",
       "    (0): Conv2d(4, 16, kernel_size=(3, 1), stride=(1, 1), padding=(1, 0))\n",
       "    (1): ReLU()\n",
       "    (2): MaxPool2d(kernel_size=(2, 1), stride=(2, 1), padding=0, dilation=1, ceil_mode=False)\n",
       "    (3): Conv2d(16, 8, kernel_size=(3, 1), stride=(1, 1), padding=(1, 0))\n",
       "    (4): ReLU()\n",
       "    (5): MaxPool2d(kernel_size=(2, 1), stride=(2, 1), padding=0, dilation=1, ceil_mode=False)\n",
       "  )\n",
       "  (decoder): Sequential(\n",
       "    (0): ConvTranspose2d(8, 16, kernel_size=(2, 1), stride=(2, 1))\n",
       "    (1): ReLU()\n",
       "    (2): ConvTranspose2d(16, 4, kernel_size=(2, 1), stride=(2, 1))\n",
       "    (3): Sigmoid()\n",
       "  )\n",
       ")"
      ]
     },
     "execution_count": 12,
     "metadata": {},
     "output_type": "execute_result"
    }
   ],
   "source": [
    "# Saving the model\n",
    "model_path = 'C:/Users/PHB/phylo/model/model0.pth'\n",
    "torch.save(model.state_dict(), model_path)\n",
    "loaded_model = Autoencoder()\n",
    "loaded_model.load_state_dict(torch.load(model_path))\n",
    "#torch.save(model,model_path)\n",
    "\n",
    "# Loading the model (for future use)\n",
    "#loaded_model = torch.load(model_path)\n",
    "loaded_model.to(device)  # Move the model to the appropriate device\n",
    "loaded_model.eval()  # Set the model to evaluation mode\n"
   ]
  },
  {
   "cell_type": "code",
   "execution_count": 14,
   "id": "9c9ee2bf",
   "metadata": {},
   "outputs": [],
   "source": [
    "def get_embeddings(model, data_loader):\n",
    "    model.eval()\n",
    "    embeddings = []\n",
    "    \n",
    "    with torch.no_grad():\n",
    "        for data in data_loader:\n",
    "            inputs = data[0].to(device)\n",
    "            embedding = model(inputs, return_embeddings=True)\n",
    "            embeddings.append(embedding.cpu().detach().numpy())\n",
    "    \n",
    "    embeddings = np.concatenate(embeddings, axis=0)\n",
    "    return embeddings\n"
   ]
  },
  {
   "cell_type": "code",
   "execution_count": 16,
   "id": "ab0059e7",
   "metadata": {},
   "outputs": [
    {
     "data": {
      "text/plain": [
       "Autoencoder(\n",
       "  (encoder): Sequential(\n",
       "    (0): Conv2d(4, 16, kernel_size=(3, 1), stride=(1, 1), padding=(1, 0))\n",
       "    (1): ReLU()\n",
       "    (2): MaxPool2d(kernel_size=(2, 1), stride=(2, 1), padding=0, dilation=1, ceil_mode=False)\n",
       "    (3): Conv2d(16, 8, kernel_size=(3, 1), stride=(1, 1), padding=(1, 0))\n",
       "    (4): ReLU()\n",
       "    (5): MaxPool2d(kernel_size=(2, 1), stride=(2, 1), padding=0, dilation=1, ceil_mode=False)\n",
       "  )\n",
       "  (decoder): Sequential(\n",
       "    (0): ConvTranspose2d(8, 16, kernel_size=(2, 1), stride=(2, 1))\n",
       "    (1): ReLU()\n",
       "    (2): ConvTranspose2d(16, 4, kernel_size=(2, 1), stride=(2, 1))\n",
       "    (3): Sigmoid()\n",
       "  )\n",
       ")"
      ]
     },
     "execution_count": 16,
     "metadata": {},
     "output_type": "execute_result"
    }
   ],
   "source": [
    "loaded_model = Autoencoder()\n",
    "loaded_model.load_state_dict(torch.load(model_path))\n",
    "#torch.save(model,model_path)\n",
    "\n",
    "# Loading the model (for future use)\n",
    "#loaded_model = torch.load(model_path)\n",
    "loaded_model.to(device)  # Move the model to the appropriate device\n",
    "loaded_model.eval()  # Set the model to evaluation mode\n"
   ]
  },
  {
   "cell_type": "code",
   "execution_count": 31,
   "id": "64f622d2",
   "metadata": {},
   "outputs": [],
   "source": [
    "test_embeddings = get_embeddings(loaded_model, test_loader)"
   ]
  },
  {
   "cell_type": "code",
   "execution_count": 34,
   "id": "9b8a9c18",
   "metadata": {},
   "outputs": [
    {
     "data": {
      "text/plain": [
       "(15000, 8, 125, 1)"
      ]
     },
     "execution_count": 34,
     "metadata": {},
     "output_type": "execute_result"
    }
   ],
   "source": [
    "test_embeddings.shape"
   ]
  },
  {
   "cell_type": "code",
   "execution_count": null,
   "id": "93a00f1a",
   "metadata": {},
   "outputs": [],
   "source": [
    "class ComplexAutoencoder(nn.Module):\n",
    "    def __init__(self):\n",
    "        super(ComplexAutoencoder, self).__init__()\n",
    "        \n",
    "        self.encoder = nn.Sequential(\n",
    "            nn.Conv2d(4, 32, (3, 1), padding=(1, 0)),\n",
    "            nn.ReLU(),\n",
    "            nn.BatchNorm2d(32),\n",
    "            nn.MaxPool2d((2, 1), (2, 1)),\n",
    "            nn.Conv2d(32, 64, (3, 1), padding=(1, 0)),\n",
    "            nn.ReLU(),\n",
    "            nn.BatchNorm2d(64),\n",
    "            nn.MaxPool2d((2, 1), (2, 1)),\n",
    "            nn.Conv2d(64, 128, (3, 1), padding=(1, 0)),\n",
    "            nn.ReLU(),\n",
    "            nn.BatchNorm2d(128),\n",
    "            nn.MaxPool2d((2, 1), (2, 1)),\n",
    "        )\n",
    "        \n",
    "        self.decoder = nn.Sequential(\n",
    "            nn.ConvTranspose2d(128, 64, (2, 1), stride=(2, 1)),\n",
    "            nn.ReLU(),\n",
    "            nn.BatchNorm2d(64),\n",
    "            nn.ConvTranspose2d(64, 32, (2, 1), stride=(2, 1)),\n",
    "            nn.ReLU(),\n",
    "            nn.BatchNorm2d(32),\n",
    "            nn.ConvTranspose2d(32, 4, (2, 1), stride=(2, 1)),\n",
    "            nn.Sigmoid(),\n",
    "        )\n",
    "\n",
    "    def forward(self, x, return_embeddings=False):\n",
    "        x = self.encoder(x)\n",
    "        if return_embeddings:\n",
    "            return x\n",
    "        x = self.decoder(x)\n",
    "        return x"
   ]
  }
 ],
 "metadata": {
  "kernelspec": {
   "display_name": "py37",
   "language": "python",
   "name": "py37"
  },
  "language_info": {
   "codemirror_mode": {
    "name": "ipython",
    "version": 3
   },
   "file_extension": ".py",
   "mimetype": "text/x-python",
   "name": "python",
   "nbconvert_exporter": "python",
   "pygments_lexer": "ipython3",
   "version": "3.7.13"
  }
 },
 "nbformat": 4,
 "nbformat_minor": 5
}
